{
 "cells": [
  {
   "cell_type": "markdown",
   "metadata": {},
   "source": [
    "# Analysis of Football Team and Players\n",
    "\n",
    "## Table of Contents\n",
    "<ul>\n",
    "<li><a href=\"#intro\">Introduction</a></li>\n",
    "<li><a href=\"#wrangling\">Data Wrangling</a></li>\n",
    "<li><a href=\"#eda\">Exploratory Data Analysis</a></li>\n",
    "<li><a href=\"#conclusions\">Conclusions</a></li>\n",
    "</ul>"
   ]
  },
  {
   "cell_type": "markdown",
   "metadata": {},
   "source": [
    "<a id='intro'></a>\n",
    "## Introduction\n",
    "\n",
    ">This data analysis project works with Football database sourced from Kaggle. The database contains data of matches, players and teams from several European countries from 2008 to 2016. Following are few specifications of the database.\n",
    "\n",
    ">- +25,000 matches\n",
    ">- +10,000 players\n",
    ">- 11 European Countries with their lead championship\n",
    ">- Seasons 2008 to 2016\n",
    ">- Players and Teams' attributes* sourced from EA Sports' FIFA video game series, including the weekly updates\n",
    ">- Team line up with squad formation (X, Y coordinates)\n",
    ">- Betting odds from up to 10 providers\n",
    ">- Detailed match events (goal types, possession, corner, cross, fouls, cards etc…) for +10,000 matches\n",
    "\n",
    "> The analysis tries to explore relation between various player, team attributes and their winning chances.\n",
    "The following questions are tried to be answered.\n",
    "\n",
    ">- What teams improved the most over the time period?\n",
    ">- Which players had the most penalties? \n",
    ">- What team attributes lead to the most victories?\n",
    "\n",
    "> **Tip**: You should _not_ perform too many operations in each cell. Create cells freely to explore your data. One option that you can take with this project is to do a lot of explorations in an initial notebook. These don't have to be organized, but make sure you use enough comments to understand the purpose of each code cell. Then, after you're done with your analysis, create a duplicate notebook where you will trim the excess and organize your steps so that you have a flowing, cohesive report.\n",
    "\n",
    "> **Tip**: Make sure that you keep your reader informed on the steps that you are taking in your investigation. Follow every code cell, or every set of related code cells, with a markdown cell to describe to the reader what was found in the preceding cell(s). Try to make it so that the reader can then understand what they will be seeing in the following cell(s).\n"
   ]
  },
  {
   "cell_type": "code",
   "execution_count": 1,
   "metadata": {},
   "outputs": [],
   "source": [
    "# Use this cell to set up import statements for all of the packages that you\n",
    "#   plan to use.\n",
    "\n",
    "# Remember to include a 'magic word' so that your visualizations are plotted\n",
    "#   inline with the notebook. See this page for more:\n",
    "#   http://ipython.readthedocs.io/en/stable/interactive/magics.html\n",
    "import pandas as pd\n",
    "import sqlite3\n",
    "import matplotlib.pyplot as plt\n",
    "%matplotlib inline"
   ]
  },
  {
   "cell_type": "code",
   "execution_count": 2,
   "metadata": {},
   "outputs": [],
   "source": [
    "from IPython.core.interactiveshell import InteractiveShell\n",
    "InteractiveShell.ast_node_interactivity = \"all\""
   ]
  },
  {
   "cell_type": "markdown",
   "metadata": {},
   "source": [
    "<a id='wrangling'></a>\n",
    "## Data Wrangling"
   ]
  },
  {
   "cell_type": "markdown",
   "metadata": {},
   "source": [
    "### 1. Loading the Sqlite DB as Pandas DataFrame"
   ]
  },
  {
   "cell_type": "code",
   "execution_count": 3,
   "metadata": {},
   "outputs": [
    {
     "data": {
      "text/plain": [
       "<sqlite3.Cursor at 0x8c22f10>"
      ]
     },
     "execution_count": 3,
     "metadata": {},
     "output_type": "execute_result"
    },
    {
     "name": "stdout",
     "output_type": "stream",
     "text": [
      "[('sqlite_sequence',), ('Player_Attributes',), ('Player',), ('Match',), ('League',), ('Country',), ('Team',), ('Team_Attributes',)]\n"
     ]
    }
   ],
   "source": [
    "#Reading datatable names contained in the sqlite DB\n",
    "con = sqlite3.connect('archive/database.sqlite')\n",
    "cursor = con.cursor()\n",
    "cursor.execute(\"SELECT name FROM sqlite_master WHERE type='table';\")\n",
    "print(cursor.fetchall())\n",
    "con.close()"
   ]
  },
  {
   "cell_type": "code",
   "execution_count": 4,
   "metadata": {},
   "outputs": [],
   "source": [
    "#Importing the sqlite datatables as pandas Dataframe \n",
    "con = sqlite3.connect('archive/database.sqlite')\n",
    "df_sqlite_sqe = pd.read_sql_query(\"SELECT * from sqlite_sequence\", con)\n",
    "df_P = pd.read_sql_query(\"SELECT * from Player\", con)\n",
    "df_P_Attr = pd.read_sql_query(\"SELECT * from Player_Attributes\", con)\n",
    "df_T = pd.read_sql_query(\"SELECT * from Team\", con)\n",
    "df_T_Attr = pd.read_sql_query(\"SELECT * from Team_Attributes\", con)\n",
    "df_M = pd.read_sql_query(\"SELECT * from Match\", con)\n",
    "df_L = pd.read_sql_query(\"SELECT * from League\", con)\n",
    "con.close()"
   ]
  },
  {
   "cell_type": "markdown",
   "metadata": {},
   "source": [
    "### 2.1 Player and Player_Attribute Dataset"
   ]
  },
  {
   "cell_type": "markdown",
   "metadata": {},
   "source": [
    ">The 2 Dataset are merged after preliminary cleaning of individual Datasets\n",
    "The merged dataset is then analyzed further"
   ]
  },
  {
   "cell_type": "markdown",
   "metadata": {},
   "source": [
    "### 2.1.1 Player Dataset"
   ]
  },
  {
   "cell_type": "code",
   "execution_count": 5,
   "metadata": {},
   "outputs": [
    {
     "name": "stdout",
     "output_type": "stream",
     "text": [
      "<class 'pandas.core.frame.DataFrame'>\n",
      "RangeIndex: 11060 entries, 0 to 11059\n",
      "Data columns (total 7 columns):\n",
      " #   Column              Non-Null Count  Dtype  \n",
      "---  ------              --------------  -----  \n",
      " 0   id                  11060 non-null  int64  \n",
      " 1   player_api_id       11060 non-null  int64  \n",
      " 2   player_name         11060 non-null  object \n",
      " 3   player_fifa_api_id  11060 non-null  int64  \n",
      " 4   birthday            11060 non-null  object \n",
      " 5   height              11060 non-null  float64\n",
      " 6   weight              11060 non-null  int64  \n",
      "dtypes: float64(1), int64(4), object(2)\n",
      "memory usage: 605.0+ KB\n"
     ]
    }
   ],
   "source": [
    "df_P.info()"
   ]
  },
  {
   "cell_type": "markdown",
   "metadata": {},
   "source": [
    " ### Observation: \n",
    "> Player Dataset appears OK. Following couple of actions are taken:    \n",
    "    - Datatype of birthday set to Datatime.    \n",
    "    - Height column set to int."
   ]
  },
  {
   "cell_type": "markdown",
   "metadata": {},
   "source": [
    "### Cleaning"
   ]
  },
  {
   "cell_type": "code",
   "execution_count": 6,
   "metadata": {},
   "outputs": [],
   "source": [
    "df_P.birthday = pd.to_datetime(df_P.birthday)\n",
    "df_P.height = df_P.height.astype(int)"
   ]
  },
  {
   "cell_type": "markdown",
   "metadata": {},
   "source": [
    "### 2.1.2 Player_Attribute Dataset"
   ]
  },
  {
   "cell_type": "code",
   "execution_count": 7,
   "metadata": {},
   "outputs": [
    {
     "name": "stdout",
     "output_type": "stream",
     "text": [
      "<class 'pandas.core.frame.DataFrame'>\n",
      "RangeIndex: 183978 entries, 0 to 183977\n",
      "Data columns (total 42 columns):\n",
      " #   Column               Non-Null Count   Dtype  \n",
      "---  ------               --------------   -----  \n",
      " 0   id                   183978 non-null  int64  \n",
      " 1   player_fifa_api_id   183978 non-null  int64  \n",
      " 2   player_api_id        183978 non-null  int64  \n",
      " 3   date                 183978 non-null  object \n",
      " 4   overall_rating       183142 non-null  float64\n",
      " 5   potential            183142 non-null  float64\n",
      " 6   preferred_foot       183142 non-null  object \n",
      " 7   attacking_work_rate  180748 non-null  object \n",
      " 8   defensive_work_rate  183142 non-null  object \n",
      " 9   crossing             183142 non-null  float64\n",
      " 10  finishing            183142 non-null  float64\n",
      " 11  heading_accuracy     183142 non-null  float64\n",
      " 12  short_passing        183142 non-null  float64\n",
      " 13  volleys              181265 non-null  float64\n",
      " 14  dribbling            183142 non-null  float64\n",
      " 15  curve                181265 non-null  float64\n",
      " 16  free_kick_accuracy   183142 non-null  float64\n",
      " 17  long_passing         183142 non-null  float64\n",
      " 18  ball_control         183142 non-null  float64\n",
      " 19  acceleration         183142 non-null  float64\n",
      " 20  sprint_speed         183142 non-null  float64\n",
      " 21  agility              181265 non-null  float64\n",
      " 22  reactions            183142 non-null  float64\n",
      " 23  balance              181265 non-null  float64\n",
      " 24  shot_power           183142 non-null  float64\n",
      " 25  jumping              181265 non-null  float64\n",
      " 26  stamina              183142 non-null  float64\n",
      " 27  strength             183142 non-null  float64\n",
      " 28  long_shots           183142 non-null  float64\n",
      " 29  aggression           183142 non-null  float64\n",
      " 30  interceptions        183142 non-null  float64\n",
      " 31  positioning          183142 non-null  float64\n",
      " 32  vision               181265 non-null  float64\n",
      " 33  penalties            183142 non-null  float64\n",
      " 34  marking              183142 non-null  float64\n",
      " 35  standing_tackle      183142 non-null  float64\n",
      " 36  sliding_tackle       181265 non-null  float64\n",
      " 37  gk_diving            183142 non-null  float64\n",
      " 38  gk_handling          183142 non-null  float64\n",
      " 39  gk_kicking           183142 non-null  float64\n",
      " 40  gk_positioning       183142 non-null  float64\n",
      " 41  gk_reflexes          183142 non-null  float64\n",
      "dtypes: float64(35), int64(3), object(4)\n",
      "memory usage: 59.0+ MB\n"
     ]
    }
   ],
   "source": [
    "df_P_Attr.info()"
   ]
  },
  {
   "cell_type": "markdown",
   "metadata": {},
   "source": [
    " ### Observation\n",
    "\n",
    "> 1. **Player_Attribute** has higher number of rows(183978) compared to **Player** Dataset(11060). \n",
    " Considering that there are same unique players in the two dataset, this means **Player_Attribute** Dataset has multiple records for individual player. \n",
    "\n",
    "> 2. There are major number of rows with missing values. \n",
    ">> **a.** Apart from columns representing Player ID and Date, no column had entries higher 183142. The additional rows (183978-183142) will be dropped.  \n",
    ">> **b.** For columns having non-null rows lesser than 183142: \n",
    ">>> - Mean of values from non-null rows of same player is used\n",
    ">>> - If all rows of the individaul player are nulll, mean value of the dataset(covering all player) is used to fill the dataset."
   ]
  },
  {
   "cell_type": "code",
   "execution_count": 8,
   "metadata": {},
   "outputs": [],
   "source": [
    "drop = df_P_Attr[df_P_Attr.overall_rating.isnull()].index\n",
    "df_P_Attr = df_P_Attr.drop(drop)"
   ]
  },
  {
   "cell_type": "markdown",
   "metadata": {},
   "source": [
    "### 2.1.3 Merging Player and Player_Attribute"
   ]
  },
  {
   "cell_type": "code",
   "execution_count": 9,
   "metadata": {},
   "outputs": [],
   "source": [
    "##Player Dataset is merged and Null Values Dropped\n",
    "df_P_Mer = pd.merge(df_P, df_P_Attr, how='inner', on=['player_api_id','player_fifa_api_id'])\n",
    "df_P_Mer.drop(['id_x','id_y'], axis=1, inplace=True)"
   ]
  },
  {
   "cell_type": "code",
   "execution_count": 10,
   "metadata": {},
   "outputs": [
    {
     "name": "stdout",
     "output_type": "stream",
     "text": [
      "<class 'pandas.core.frame.DataFrame'>\n",
      "Int64Index: 183016 entries, 0 to 183015\n",
      "Data columns (total 45 columns):\n",
      " #   Column               Non-Null Count   Dtype         \n",
      "---  ------               --------------   -----         \n",
      " 0   player_api_id        183016 non-null  int64         \n",
      " 1   player_name          183016 non-null  object        \n",
      " 2   player_fifa_api_id   183016 non-null  int64         \n",
      " 3   birthday             183016 non-null  datetime64[ns]\n",
      " 4   height               183016 non-null  int32         \n",
      " 5   weight               183016 non-null  int64         \n",
      " 6   date                 183016 non-null  object        \n",
      " 7   overall_rating       183016 non-null  float64       \n",
      " 8   potential            183016 non-null  float64       \n",
      " 9   preferred_foot       183016 non-null  object        \n",
      " 10  attacking_work_rate  180622 non-null  object        \n",
      " 11  defensive_work_rate  183016 non-null  object        \n",
      " 12  crossing             183016 non-null  float64       \n",
      " 13  finishing            183016 non-null  float64       \n",
      " 14  heading_accuracy     183016 non-null  float64       \n",
      " 15  short_passing        183016 non-null  float64       \n",
      " 16  volleys              181139 non-null  float64       \n",
      " 17  dribbling            183016 non-null  float64       \n",
      " 18  curve                181139 non-null  float64       \n",
      " 19  free_kick_accuracy   183016 non-null  float64       \n",
      " 20  long_passing         183016 non-null  float64       \n",
      " 21  ball_control         183016 non-null  float64       \n",
      " 22  acceleration         183016 non-null  float64       \n",
      " 23  sprint_speed         183016 non-null  float64       \n",
      " 24  agility              181139 non-null  float64       \n",
      " 25  reactions            183016 non-null  float64       \n",
      " 26  balance              181139 non-null  float64       \n",
      " 27  shot_power           183016 non-null  float64       \n",
      " 28  jumping              181139 non-null  float64       \n",
      " 29  stamina              183016 non-null  float64       \n",
      " 30  strength             183016 non-null  float64       \n",
      " 31  long_shots           183016 non-null  float64       \n",
      " 32  aggression           183016 non-null  float64       \n",
      " 33  interceptions        183016 non-null  float64       \n",
      " 34  positioning          183016 non-null  float64       \n",
      " 35  vision               181139 non-null  float64       \n",
      " 36  penalties            183016 non-null  float64       \n",
      " 37  marking              183016 non-null  float64       \n",
      " 38  standing_tackle      183016 non-null  float64       \n",
      " 39  sliding_tackle       181139 non-null  float64       \n",
      " 40  gk_diving            183016 non-null  float64       \n",
      " 41  gk_handling          183016 non-null  float64       \n",
      " 42  gk_kicking           183016 non-null  float64       \n",
      " 43  gk_positioning       183016 non-null  float64       \n",
      " 44  gk_reflexes          183016 non-null  float64       \n",
      "dtypes: datetime64[ns](1), float64(35), int32(1), int64(3), object(5)\n",
      "memory usage: 63.5+ MB\n"
     ]
    }
   ],
   "source": [
    "df_P_Mer.info()"
   ]
  },
  {
   "cell_type": "markdown",
   "metadata": {},
   "source": [
    "- The number of non-null rows for **overall potential** has dropped to 183016 from 183142.  \n",
    "- The loss of 126 rows is becuase **wrong entries** mismatch of pair of **\"player_api_id\" & \"player_fifa_api_id\"** between the merged Datasets.  \n",
    "- This is verified below.  "
   ]
  },
  {
   "cell_type": "code",
   "execution_count": 11,
   "metadata": {},
   "outputs": [],
   "source": [
    "x = tuple(zip(df_P.player_api_id, df_P.player_fifa_api_id)) #Pair of api_id & fifa_api_id in \"Player Dataset\"\n",
    "y = tuple(zip(df_P_Attr.player_api_id, df_P_Attr.player_fifa_api_id)) #Pair of api_id & fifa_api_id in \"Player_Attribute Dataset\"\n",
    "mismatch_1 = [tuple([i,j]) for i,j in x if tuple([i,j]) not in y] # Pair present in Player but missing in Player_Attribute\n",
    "mismatch_2 = [tuple([i,j]) for i,j in y if tuple([i,j]) not in x] # Pair present in Player_Attribute but missing in Player"
   ]
  },
  {
   "cell_type": "code",
   "execution_count": 12,
   "metadata": {},
   "outputs": [
    {
     "name": "stdout",
     "output_type": "stream",
     "text": [
      "0 126\n"
     ]
    }
   ],
   "source": [
    "print(len(mismatch_1),len(mismatch_2))"
   ]
  },
  {
   "cell_type": "markdown",
   "metadata": {},
   "source": [
    "- The true identity of the Players for these 126 rows from Player_Attribute dataset cannot be known.  \n",
    "- As these number of rows is small compared to the available dataset, these rows left out of analysis."
   ]
  },
  {
   "cell_type": "markdown",
   "metadata": {},
   "source": [
    "### Filling the Null rows of the merged Player Dataset"
   ]
  },
  {
   "cell_type": "markdown",
   "metadata": {},
   "source": [
    "As discussed in the observation of Player_Attribute Dataset, check if there are individaul players with partial rows with Null values.\n",
    "For such players, mean of their non-null values will be used. This will allow us to be more representative."
   ]
  },
  {
   "cell_type": "code",
   "execution_count": 13,
   "metadata": {},
   "outputs": [],
   "source": [
    "columns = df_P_Mer.keys()\n",
    "null_columns = columns[df_P_Mer.isnull().any()].unique()\n",
    "\n",
    "match_1 = {}\n",
    "match_2 = {}\n",
    "\n",
    "for i in null_columns:\n",
    "    null_keys = df_P_Mer[df_P_Mer.loc[:,i].isnull()].player_fifa_api_id.unique()\n",
    "    not_null_keys = df_P_Mer[df_P_Mer.loc[:,i].notnull()].player_fifa_api_id.unique()\n",
    "    match_11 = [i for i in null_keys if i in not_null_keys]\n",
    "    match_1[i] = len(match_11)"
   ]
  },
  {
   "cell_type": "code",
   "execution_count": 14,
   "metadata": {},
   "outputs": [
    {
     "data": {
      "text/plain": [
       "{'attacking_work_rate': 0,\n",
       " 'volleys': 0,\n",
       " 'curve': 0,\n",
       " 'agility': 0,\n",
       " 'balance': 0,\n",
       " 'jumping': 0,\n",
       " 'vision': 0,\n",
       " 'sliding_tackle': 0}"
      ]
     },
     "execution_count": 14,
     "metadata": {},
     "output_type": "execute_result"
    }
   ],
   "source": [
    "match_1"
   ]
  },
  {
   "cell_type": "markdown",
   "metadata": {},
   "source": [
    "The above indicates that there are no individual players with partially filled rows.  \n",
    "So the mean from the attributes of all playesrs is used to fill the null values."
   ]
  },
  {
   "cell_type": "code",
   "execution_count": 15,
   "metadata": {},
   "outputs": [],
   "source": [
    "temp = df_P_Mer[null_columns]\n",
    "df_P_Mer[null_columns] = temp.fillna(temp.mean())\n",
    "df_P_Mer[null_columns] = df_P_Mer[null_columns].fillna('medium')"
   ]
  },
  {
   "cell_type": "markdown",
   "metadata": {},
   "source": [
    "### Dataset: Team & Team Attribute"
   ]
  },
  {
   "cell_type": "code",
   "execution_count": 16,
   "metadata": {},
   "outputs": [
    {
     "name": "stdout",
     "output_type": "stream",
     "text": [
      "<class 'pandas.core.frame.DataFrame'>\n",
      "RangeIndex: 299 entries, 0 to 298\n",
      "Data columns (total 5 columns):\n",
      " #   Column            Non-Null Count  Dtype  \n",
      "---  ------            --------------  -----  \n",
      " 0   id                299 non-null    int64  \n",
      " 1   team_api_id       299 non-null    int64  \n",
      " 2   team_fifa_api_id  288 non-null    float64\n",
      " 3   team_long_name    299 non-null    object \n",
      " 4   team_short_name   299 non-null    object \n",
      "dtypes: float64(1), int64(2), object(2)\n",
      "memory usage: 11.8+ KB\n"
     ]
    }
   ],
   "source": [
    "df_T.info()"
   ]
  },
  {
   "cell_type": "markdown",
   "metadata": {},
   "source": [
    " ### Observation: \n",
    ">Team Dataset is good. Doesn't require any cleaning as:\n",
    ">- No null value rows observed in the \"Player\" Dataset.\n",
    ">- All the data types appear to be of the right type."
   ]
  },
  {
   "cell_type": "code",
   "execution_count": 17,
   "metadata": {},
   "outputs": [
    {
     "name": "stdout",
     "output_type": "stream",
     "text": [
      "<class 'pandas.core.frame.DataFrame'>\n",
      "RangeIndex: 1458 entries, 0 to 1457\n",
      "Data columns (total 25 columns):\n",
      " #   Column                          Non-Null Count  Dtype  \n",
      "---  ------                          --------------  -----  \n",
      " 0   id                              1458 non-null   int64  \n",
      " 1   team_fifa_api_id                1458 non-null   int64  \n",
      " 2   team_api_id                     1458 non-null   int64  \n",
      " 3   date                            1458 non-null   object \n",
      " 4   buildUpPlaySpeed                1458 non-null   int64  \n",
      " 5   buildUpPlaySpeedClass           1458 non-null   object \n",
      " 6   buildUpPlayDribbling            489 non-null    float64\n",
      " 7   buildUpPlayDribblingClass       1458 non-null   object \n",
      " 8   buildUpPlayPassing              1458 non-null   int64  \n",
      " 9   buildUpPlayPassingClass         1458 non-null   object \n",
      " 10  buildUpPlayPositioningClass     1458 non-null   object \n",
      " 11  chanceCreationPassing           1458 non-null   int64  \n",
      " 12  chanceCreationPassingClass      1458 non-null   object \n",
      " 13  chanceCreationCrossing          1458 non-null   int64  \n",
      " 14  chanceCreationCrossingClass     1458 non-null   object \n",
      " 15  chanceCreationShooting          1458 non-null   int64  \n",
      " 16  chanceCreationShootingClass     1458 non-null   object \n",
      " 17  chanceCreationPositioningClass  1458 non-null   object \n",
      " 18  defencePressure                 1458 non-null   int64  \n",
      " 19  defencePressureClass            1458 non-null   object \n",
      " 20  defenceAggression               1458 non-null   int64  \n",
      " 21  defenceAggressionClass          1458 non-null   object \n",
      " 22  defenceTeamWidth                1458 non-null   int64  \n",
      " 23  defenceTeamWidthClass           1458 non-null   object \n",
      " 24  defenceDefenderLineClass        1458 non-null   object \n",
      "dtypes: float64(1), int64(11), object(13)\n",
      "memory usage: 284.9+ KB\n"
     ]
    }
   ],
   "source": [
    "df_T_Attr.info()"
   ]
  },
  {
   "cell_type": "markdown",
   "metadata": {},
   "source": [
    "### Observation\n",
    "> 1. **Team_Attribute** has higher number of rows(1458) compared to **Team** Dataset(299). \n",
    " Considering that the there are same unique Teams in the two dataset, **Team_Attribute** Dataset has multiple records for individual Team.\n",
    "> 2. **buildUpPlayDribbling** has high number of rows with null values. These rows are filled by:\n",
    ">> - Mean of values from non-null rows of same Team \n",
    ">> - If all rows for a specific team are nulll, mean value of the dataset(covering all Team) "
   ]
  },
  {
   "cell_type": "markdown",
   "metadata": {},
   "source": [
    "### 2.1.3 Merging Team and Team_Attribute"
   ]
  },
  {
   "cell_type": "code",
   "execution_count": 86,
   "metadata": {},
   "outputs": [
    {
     "name": "stdout",
     "output_type": "stream",
     "text": [
      "<class 'pandas.core.frame.DataFrame'>\n",
      "Int64Index: 1458 entries, 0 to 1457\n",
      "Data columns (total 26 columns):\n",
      " #   Column                          Non-Null Count  Dtype  \n",
      "---  ------                          --------------  -----  \n",
      " 0   team_api_id                     1458 non-null   int64  \n",
      " 1   team_fifa_api_id                1458 non-null   float64\n",
      " 2   team_long_name                  1458 non-null   object \n",
      " 3   team_short_name                 1458 non-null   object \n",
      " 4   date                            1458 non-null   object \n",
      " 5   buildUpPlaySpeed                1458 non-null   int64  \n",
      " 6   buildUpPlaySpeedClass           1458 non-null   object \n",
      " 7   buildUpPlayDribbling            489 non-null    float64\n",
      " 8   buildUpPlayDribblingClass       1458 non-null   object \n",
      " 9   buildUpPlayPassing              1458 non-null   int64  \n",
      " 10  buildUpPlayPassingClass         1458 non-null   object \n",
      " 11  buildUpPlayPositioningClass     1458 non-null   object \n",
      " 12  chanceCreationPassing           1458 non-null   int64  \n",
      " 13  chanceCreationPassingClass      1458 non-null   object \n",
      " 14  chanceCreationCrossing          1458 non-null   int64  \n",
      " 15  chanceCreationCrossingClass     1458 non-null   object \n",
      " 16  chanceCreationShooting          1458 non-null   int64  \n",
      " 17  chanceCreationShootingClass     1458 non-null   object \n",
      " 18  chanceCreationPositioningClass  1458 non-null   object \n",
      " 19  defencePressure                 1458 non-null   int64  \n",
      " 20  defencePressureClass            1458 non-null   object \n",
      " 21  defenceAggression               1458 non-null   int64  \n",
      " 22  defenceAggressionClass          1458 non-null   object \n",
      " 23  defenceTeamWidth                1458 non-null   int64  \n",
      " 24  defenceTeamWidthClass           1458 non-null   object \n",
      " 25  defenceDefenderLineClass        1458 non-null   object \n",
      "dtypes: float64(2), int64(9), object(15)\n",
      "memory usage: 307.5+ KB\n"
     ]
    }
   ],
   "source": [
    "##Team Dataset is merged\n",
    "df_T_Mer = pd.merge(df_T, df_T_Attr, how='inner', on=['team_api_id','team_fifa_api_id'])\n",
    "df_T_Mer.drop(['id_x','id_y'], axis=1, inplace=True)\n",
    "df_T_Mer.info()"
   ]
  },
  {
   "cell_type": "markdown",
   "metadata": {},
   "source": [
    "### Filling the Null rows of the merged Team Dataset"
   ]
  },
  {
   "cell_type": "markdown",
   "metadata": {},
   "source": [
    "As discussed in the observation of Team_Attribute Dataset, check if there are Team with partial rows with Null values.\n",
    "For such Teams, mean of their non-null values will be used. This will allow us to be more representative."
   ]
  },
  {
   "cell_type": "code",
   "execution_count": 87,
   "metadata": {},
   "outputs": [],
   "source": [
    "columns = df_T_Mer.keys()\n",
    "null_columns = columns[df_T_Mer.isnull().any()].unique()\n",
    "match_1 = {}\n",
    "match_2 = {}\n",
    "for i in null_columns:\n",
    "    null_keys = df_T_Mer[df_T_Mer.loc[:,i].isnull()].team_fifa_api_id.unique()\n",
    "    not_null_keys = df_T_Mer[df_T_Mer.loc[:,i].notnull()].team_fifa_api_id.unique()\n",
    "    match_11 = [i for i in null_keys if i in not_null_keys]\n",
    "    match_1[i] = len(match_11)"
   ]
  },
  {
   "cell_type": "code",
   "execution_count": 88,
   "metadata": {},
   "outputs": [
    {
     "data": {
      "text/plain": [
       "{'buildUpPlayDribbling': 245}"
      ]
     },
     "execution_count": 88,
     "metadata": {},
     "output_type": "execute_result"
    }
   ],
   "source": [
    "match_1"
   ]
  },
  {
   "cell_type": "markdown",
   "metadata": {},
   "source": [
    "The above shows that there are 245 teams with partially filled rows.  \n",
    "We have column **buildUpPlayDribblingClass**. The mean is based on the category of dribbling\n",
    "Mean per Team_fifa_api_id needs to be calculated for the column **buildUpPlayDribbling**"
   ]
  },
  {
   "cell_type": "code",
   "execution_count": 89,
   "metadata": {},
   "outputs": [],
   "source": [
    "mean_by_dribbling_class = df_T_Mer.loc[:,['buildUpPlayDribblingClass','buildUpPlayDribbling']].groupby('buildUpPlayDribblingClass', as_index=False).mean()\n",
    "#mean_by_dribbling_class.set_index()\n",
    "#df_T_Mer.set_index('team_fifa_api_id', inplace = True)\n",
    "temp1 = df_T_Mer[df_T_Mer.loc[:,'buildUpPlayDribbling'].isnull()]\n",
    "df_T_Mer.drop(temp1.index, inplace=True)\n",
    "temp2 = pd.merge(temp1, mean_by_dribbling_class, left_on='buildUpPlayDribblingClass', right_on='buildUpPlayDribblingClass', how='inner')\n",
    "temp2.drop(labels='buildUpPlayDribbling_x', axis=1, inplace=True)\n",
    "temp2.rename(columns={'buildUpPlayDribbling_y':'buildUpPlayDribbling'}, inplace=True)\n",
    "df_T_Mer = pd.concat([df_T_Mer,temp2])"
   ]
  },
  {
   "cell_type": "code",
   "execution_count": 90,
   "metadata": {},
   "outputs": [
    {
     "name": "stdout",
     "output_type": "stream",
     "text": [
      "<class 'pandas.core.frame.DataFrame'>\n",
      "Int64Index: 1458 entries, 4 to 968\n",
      "Data columns (total 26 columns):\n",
      " #   Column                          Non-Null Count  Dtype  \n",
      "---  ------                          --------------  -----  \n",
      " 0   team_api_id                     1458 non-null   int64  \n",
      " 1   team_fifa_api_id                1458 non-null   float64\n",
      " 2   team_long_name                  1458 non-null   object \n",
      " 3   team_short_name                 1458 non-null   object \n",
      " 4   date                            1458 non-null   object \n",
      " 5   buildUpPlaySpeed                1458 non-null   int64  \n",
      " 6   buildUpPlaySpeedClass           1458 non-null   object \n",
      " 7   buildUpPlayDribbling            1458 non-null   float64\n",
      " 8   buildUpPlayDribblingClass       1458 non-null   object \n",
      " 9   buildUpPlayPassing              1458 non-null   int64  \n",
      " 10  buildUpPlayPassingClass         1458 non-null   object \n",
      " 11  buildUpPlayPositioningClass     1458 non-null   object \n",
      " 12  chanceCreationPassing           1458 non-null   int64  \n",
      " 13  chanceCreationPassingClass      1458 non-null   object \n",
      " 14  chanceCreationCrossing          1458 non-null   int64  \n",
      " 15  chanceCreationCrossingClass     1458 non-null   object \n",
      " 16  chanceCreationShooting          1458 non-null   int64  \n",
      " 17  chanceCreationShootingClass     1458 non-null   object \n",
      " 18  chanceCreationPositioningClass  1458 non-null   object \n",
      " 19  defencePressure                 1458 non-null   int64  \n",
      " 20  defencePressureClass            1458 non-null   object \n",
      " 21  defenceAggression               1458 non-null   int64  \n",
      " 22  defenceAggressionClass          1458 non-null   object \n",
      " 23  defenceTeamWidth                1458 non-null   int64  \n",
      " 24  defenceTeamWidthClass           1458 non-null   object \n",
      " 25  defenceDefenderLineClass        1458 non-null   object \n",
      "dtypes: float64(2), int64(9), object(15)\n",
      "memory usage: 307.5+ KB\n"
     ]
    }
   ],
   "source": [
    "df_T_Mer.info()"
   ]
  },
  {
   "cell_type": "markdown",
   "metadata": {},
   "source": [
    "### Dataset: Match"
   ]
  },
  {
   "cell_type": "code",
   "execution_count": 91,
   "metadata": {},
   "outputs": [
    {
     "name": "stdout",
     "output_type": "stream",
     "text": [
      "<class 'pandas.core.frame.DataFrame'>\n",
      "RangeIndex: 25979 entries, 0 to 25978\n",
      "Columns: 115 entries, id to BSA\n",
      "dtypes: float64(96), int64(9), object(10)\n",
      "memory usage: 22.8+ MB\n"
     ]
    }
   ],
   "source": [
    "df_M.info()"
   ]
  },
  {
   "cell_type": "markdown",
   "metadata": {},
   "source": [
    "### Observation\n",
    "Match Dataset has 115 number of columns. Columns name are printed to check which columns are useful."
   ]
  },
  {
   "cell_type": "markdown",
   "metadata": {},
   "source": [
    "### Dataset: League"
   ]
  },
  {
   "cell_type": "code",
   "execution_count": 98,
   "metadata": {},
   "outputs": [
    {
     "name": "stdout",
     "output_type": "stream",
     "text": [
      "<class 'pandas.core.frame.DataFrame'>\n",
      "RangeIndex: 11 entries, 0 to 10\n",
      "Data columns (total 3 columns):\n",
      " #   Column      Non-Null Count  Dtype \n",
      "---  ------      --------------  ----- \n",
      " 0   id          11 non-null     int64 \n",
      " 1   country_id  11 non-null     int64 \n",
      " 2   name        11 non-null     object\n",
      "dtypes: int64(2), object(1)\n",
      "memory usage: 392.0+ bytes\n"
     ]
    }
   ],
   "source": [
    "df_L.info()"
   ]
  },
  {
   "cell_type": "markdown",
   "metadata": {},
   "source": [
    "### Data Cleaning (Replace this with more specific notes!)\n",
    "### After discussing the structure of the data and any problems that need to be\n",
    "### cleaned, perform those cleaning steps in the second part of this section."
   ]
  },
  {
   "cell_type": "markdown",
   "metadata": {},
   "source": [
    "<a id='eda'></a>\n",
    "## Exploratory Data Analysis\n",
    "\n",
    "> **Tip**: Now that you've trimmed and cleaned your data, you're ready to move on to exploration. Compute statistics and create visualizations with the goal of addressing the research questions that you posed in the Introduction section. It is recommended that you be systematic with your approach. Look at one variable at a time, and then follow it up by looking at relationships between variables.\n",
    "\n",
    "### Research Question 1: Player Overall Rating Distribution"
   ]
  },
  {
   "cell_type": "code",
   "execution_count": 108,
   "metadata": {},
   "outputs": [
    {
     "data": {
      "text/plain": [
       "<AxesSubplot:ylabel='Density'>"
      ]
     },
     "execution_count": 108,
     "metadata": {},
     "output_type": "execute_result"
    },
    {
     "data": {
      "image/png": "[encoded data removed]",
      "text/plain": [
       "<Figure size 648x648 with 1 Axes>"
      ]
     },
     "metadata": {
      "needs_background": "light"
     },
     "output_type": "display_data"
    }
   ],
   "source": [
    "# Use this, and more code cells, to explore your data. Don't forget to add\n",
    "#   Markdown cells to document your observations and findings.\n",
    "Player_avg = df_P_Mer.groupby('player_fifa_api_id').mean()\n",
    "%matplotlib inline\n",
    "\n",
    "Player_avg.overall_rating.plot.kde(figsize=(9,9))"
   ]
  },
  {
   "cell_type": "code",
   "execution_count": 109,
   "metadata": {},
   "outputs": [
    {
     "data": {
      "text/plain": [
       "<AxesSubplot:>"
      ]
     },
     "execution_count": 109,
     "metadata": {},
     "output_type": "execute_result"
    },
    {
     "data": {
      "image/png": "[encoded data removed]",
      "text/plain": [
       "<Figure size 648x648 with 1 Axes>"
      ]
     },
     "metadata": {
      "needs_background": "light"
     },
     "output_type": "display_data"
    }
   ],
   "source": [
    "df_P_Mer.boxplot(column=['overall_rating'],figsize=(9,9))"
   ]
  },
  {
   "cell_type": "code",
   "execution_count": 110,
   "metadata": {},
   "outputs": [
    {
     "data": {
      "text/plain": [
       "84.0"
      ]
     },
     "execution_count": 110,
     "metadata": {},
     "output_type": "execute_result"
    }
   ],
   "source": [
    "df_P_Mer.overall_rating.quantile(0.99)"
   ]
  },
  {
   "cell_type": "markdown",
   "metadata": {},
   "source": [
    "### Research Question 2: What teams improved the most over the time period?"
   ]
  },
  {
   "cell_type": "code",
   "execution_count": null,
   "metadata": {},
   "outputs": [],
   "source": [
    "# Continue to explore the data to address your additional research\n",
    "#   questions. Add more headers as needed if you have more questions to\n",
    "#   investigate.\n"
   ]
  },
  {
   "cell_type": "markdown",
   "metadata": {},
   "source": [
    "<a id='conclusions'></a>\n",
    "## Conclusions\n",
    "\n",
    "> **Tip**: Finally, summarize your findings and the results that have been performed. Make sure that you are clear with regards to the limitations of your exploration. If you haven't done any statistical tests, do not imply any statistical conclusions. And make sure you avoid implying causation from correlation!\n",
    "\n",
    "> **Tip**: Once you are satisfied with your work, you should save a copy of the report in HTML or PDF form via the **File** > **Download as** submenu. Before exporting your report, check over it to make sure that the flow of the report is complete. You should probably remove all of the \"Tip\" quotes like this one so that the presentation is as tidy as possible. Congratulations!"
   ]
  },
  {
   "cell_type": "code",
   "execution_count": null,
   "metadata": {},
   "outputs": [],
   "source": []
  }
 ],
 "metadata": {
  "kernelspec": {
   "display_name": "Python 3",
   "language": "python",
   "name": "python3"
  },
  "language_info": {
   "codemirror_mode": {
    "name": "ipython",
    "version": 3
   },
   "file_extension": ".py",
   "mimetype": "text/x-python",
   "name": "python",
   "nbconvert_exporter": "python",
   "pygments_lexer": "ipython3",
   "version": "3.8.8"
  }
 },
 "nbformat": 4,
 "nbformat_minor": 2
}
